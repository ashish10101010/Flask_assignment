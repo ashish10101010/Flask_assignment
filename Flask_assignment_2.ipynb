{
  "nbformat": 4,
  "nbformat_minor": 0,
  "metadata": {
    "colab": {
      "provenance": []
    },
    "kernelspec": {
      "name": "python3",
      "display_name": "Python 3"
    },
    "language_info": {
      "name": "python"
    }
  },
  "cells": [
    {
      "cell_type": "markdown",
      "source": [
        "#Flask-assignment_2"
      ],
      "metadata": {
        "id": "MqrsVZgNrPv2"
      }
    },
    {
      "cell_type": "code",
      "execution_count": null,
      "metadata": {
        "id": "rIBCzfMRrKhc"
      },
      "outputs": [],
      "source": [
        "Q1. Explain GET and POST methods.\n",
        "In web development, HTTP defines several methods (also known as HTTP verbs) to indicate the desired action to be performed for a given resource.\n",
        "Two common methods used in web applications are GET and POST:\n",
        "\n",
        "GET Method:\n",
        "\n",
        "Used for requesting data from a specified resource.\n",
        "Parameters are sent in the URL as key-value pairs.\n",
        "Generally used for retrieving data and should not be used for sensitive data or data that will alter the state of the server.\n",
        "POST Method:\n",
        "\n",
        "Used for submitting data to be processed to a specified resource.\n",
        "Parameters are sent in the request body.\n",
        "Typically used for operations that cause side-effects on the server, such as creating or updating resources."
      ]
    },
    {
      "cell_type": "code",
      "source": [
        "Q2. Why is request used in Flask?\n",
        "In Flask, the request object allows you to access incoming request data, such as form data, JSON data, cookies, and file uploads.\n",
        "It provides methods and attributes to interact with the incoming HTTP request made by the client.\n",
        "Examples of request usage include accessing form data submitted via POST, getting query parameters from a GET request, handling file uploads, etc."
      ],
      "metadata": {
        "id": "HX6VkKUjrd2y"
      },
      "execution_count": null,
      "outputs": []
    },
    {
      "cell_type": "code",
      "source": [
        "Q3. Why is redirect() used in Flask?\n",
        "The redirect() function in Flask is used to redirect the client to a different URL.\n",
        "It is useful for scenarios where you want to redirect the user after performing a certain action, such as form submission, authentication, etc.\n",
        "For example, after successfully processing a form submission, you might redirect the user to a thank-you page or back to the main page."
      ],
      "metadata": {
        "id": "Nd838S3Ard9r"
      },
      "execution_count": null,
      "outputs": []
    },
    {
      "cell_type": "code",
      "source": [
        "Q4. What are templates in Flask? Why is the render_template() function used?\n",
        "Templates in Flask:\n",
        "\n",
        "Templates in Flask are HTML files that contain placeholders and logic to dynamically generate HTML responses.\n",
        "They allow you to separate the presentation (HTML structure) from the application logic (Python code).\n",
        "Templates can include placeholders for variables and control structures like loops and conditionals using Jinja2 templating engine syntax.\n",
        "render_template() function:\n",
        "\n",
        "render_template() is a function provided by Flask that renders a template by passing dynamic data to it.\n",
        "It takes the name of the template file (usually a .html file) as an argument and any variables needed to render the template.\n",
        "This function is used to generate HTML responses dynamically based on the data passed to it, making the Flask application more flexible and maintainable."
      ],
      "metadata": {
        "id": "R2V8Sv46reFW"
      },
      "execution_count": null,
      "outputs": []
    },
    {
      "cell_type": "code",
      "source": [
        "Q5. Create a simple API. Use Postman to test it. Attach the screenshot of the output in the Jupyter Notebook.\n",
        "To create a simple API in Flask and test it using Postman\n",
        "\n",
        "from flask import Flask, jsonify\n",
        "\n",
        "# Create a Flask application\n",
        "app = Flask(__name__)\n",
        "\n",
        "# Define a route to serve JSON data\n",
        "@app.route('/api/data', methods=['GET'])\n",
        "def get_data():\n",
        "    data = {\n",
        "        'message': 'Hello, this is a simple API endpoint!',\n",
        "        'status': 'success'\n",
        "    }\n",
        "    return jsonify(data)\n",
        "\n",
        "# Run the application\n",
        "if __name__ == '__main__':\n",
        "    app.run(debug=True)\n",
        "\n",
        "\n",
        "\n",
        "\n",
        "\n",
        "Example Output (JSON Response):\n",
        "{\n",
        "    \"message\": \"Hello, this is a simple API endpoint!\",\n",
        "    \"status\": \"success\"\n",
        "}\n"
      ],
      "metadata": {
        "id": "b-njMTe_reLp"
      },
      "execution_count": null,
      "outputs": []
    },
    {
      "cell_type": "code",
      "source": [],
      "metadata": {
        "id": "1XBZwhtrreSH"
      },
      "execution_count": null,
      "outputs": []
    }
  ]
}