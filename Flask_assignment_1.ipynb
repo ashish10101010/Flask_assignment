{
  "nbformat": 4,
  "nbformat_minor": 0,
  "metadata": {
    "colab": {
      "provenance": []
    },
    "kernelspec": {
      "name": "python3",
      "display_name": "Python 3"
    },
    "language_info": {
      "name": "python"
    }
  },
  "cells": [
    {
      "cell_type": "markdown",
      "source": [
        "#Flask-assignment_1"
      ],
      "metadata": {
        "id": "TgkvMgq8n2Hf"
      }
    },
    {
      "cell_type": "code",
      "execution_count": null,
      "metadata": {
        "id": "Efw05vTCnvzv"
      },
      "outputs": [],
      "source": [
        "Q1. What is Flask Framework? What are the advantages of Flask Framework?\n",
        "\n",
        "Flask Framework: Flask is a lightweight and micro web framework for Python.\n",
        "It is designed with simplicity and flexibility in mind, allowing developers to build web applications quickly and with minimal boilerplate code.\n",
        "\n",
        "Advantages of Flask Framework:\n",
        "\n",
        "Simplicity: Flask has a simple and easy-to-use syntax which makes it ideal for beginners.\n",
        "Flexibility: It allows developers to choose the components they want to use, making it highly customizable.\n",
        "Extensible: Flask can be extended with various third-party libraries to add specific functionalities.\n",
        "Built-in Development Server: Flask comes with a built-in development server and debugger.\n",
        "Jinja2 Templating: Supports powerful Jinja2 templating for rendering HTML templates.\n",
        "Werkzeug: Integrated with Werkzeug, a WSGI utility library, providing routing, request handling, and other core functionalities."
      ]
    },
    {
      "cell_type": "code",
      "source": [
        "Q2. Create a simple Flask application to display ‘Hello World!!’. Attach the screenshot of the output in Jupyter Notebook.\n",
        "from flask import Flask\n",
        "\n",
        "# Create a Flask application\n",
        "app = Flask(__name__)\n",
        "\n",
        "# Define a route for the root URL\n",
        "@app.route('/')\n",
        "def hello():\n",
        "    return 'Hello World!!'\n",
        "\n",
        "# Run the application\n",
        "if __name__ == '__main__':\n",
        "    app.run(debug=True)\n"
      ],
      "metadata": {
        "id": "fTukTdsJoO1Q"
      },
      "execution_count": null,
      "outputs": []
    },
    {
      "cell_type": "code",
      "source": [
        "3. What is App routing in Flask? Why do we use app routes?\n",
        "\n",
        "App routing in Flask: App routing refers to mapping URLs to Python functions in a Flask application. This is achieved using the @app.route() decorator.\n",
        "\n",
        "Purpose of app routes:\n",
        "\n",
        "URL Mapping: Routes define how different URLs (endpoints) of a web application respond to client requests.\n",
        "Request Handling: Each route specifies a function that handles the client request and generates a response.\n",
        "Modularity: Routes help in organizing different functionalities of a web application into distinct endpoints.\n",
        "RESTful Services: Routes are essential for implementing RESTful APIs where each route corresponds to a specific resource or action."
      ],
      "metadata": {
        "id": "dfMh8SdeoO5E"
      },
      "execution_count": null,
      "outputs": []
    },
    {
      "cell_type": "code",
      "source": [
        "Q4. Create a \"/welcome\" route to display the welcome message “Welcome to ABC Corporation” and a \"/\" route to show the following details:\n",
        "\n",
        "from flask import Flask\n",
        "\n",
        "# Create a Flask application\n",
        "app = Flask(__name__)\n",
        "\n",
        "# Route for the /welcome endpoint\n",
        "@app.route('/welcome')\n",
        "def welcome():\n",
        "    return 'Welcome to ABC Corporation'\n",
        "\n",
        "# Route for the / endpoint\n",
        "@app.route('/')\n",
        "def company_details():\n",
        "    return '''\n",
        "    Company Name: ABC Corporation<br>\n",
        "    Location: India<br>\n",
        "    Contact Detail: 999-999-9999\n",
        "    '''\n",
        "\n",
        "# Run the application\n",
        "if __name__ == '__main__':\n",
        "    app.run(debug=True)\n",
        "\n",
        "Output Explanation:\n",
        "Accessing /welcome Route:\n",
        "\n",
        "When you access http://127.0.0.1:5000/welcome in your web browser, Flask will render the output of the welcome() function, which is 'Welcome to ABC Corporation'.\n",
        "This route simply returns a string message.\n",
        "Accessing / Route:\n",
        "\n",
        "When you access http://127.0.0.1:5000/ in your web browser, Flask will render the output of the company_details() function.\n",
        "The function returns an HTML-formatted string:\n",
        "\n"
      ],
      "metadata": {
        "id": "-QSqao32oO81"
      },
      "execution_count": null,
      "outputs": []
    },
    {
      "cell_type": "code",
      "source": [
        "Q5. What function is used in Flask for URL Building? Write a Python code to demonstrate the working of the\n",
        "url_for() function.\n",
        "\n",
        "n Flask, the url_for() function is used for URL building. It generates URLs based on the endpoint name and any arguments provided. This function is particularly useful because it allows you to avoid hardcoding URLs in your application, making it easier to update URLs when necessary.\n",
        "\n",
        "Here's a simple demonstration of how the url_for() function works in Flask:\n",
        "\n",
        "Setup: Assume you have a Flask application with two routes defined: / (index) and /user/<username>.\n",
        "\n",
        "from flask import Flask, url_for\n",
        "\n",
        "# Create a Flask application\n",
        "app = Flask(__name__)\n",
        "\n",
        "# Route for the index page\n",
        "@app.route('/')\n",
        "def index():\n",
        "    return 'Welcome to the index page!'\n",
        "\n",
        "# Route for user profile page with dynamic username\n",
        "@app.route('/user/<username>')\n",
        "def user_profile(username):\n",
        "    return f'Welcome, {username}!'\n",
        "\n",
        "# Route for generating URLs\n",
        "@app.route('/url_generator')\n",
        "def url_generator():\n",
        "    # Generate URLs using url_for()\n",
        "    index_url = url_for('index')\n",
        "    user_url = url_for('user_profile', username='john_doe')\n",
        "\n",
        "    # Create HTML content to display generated URLs\n",
        "    html_content = f'''\n",
        "    <h2>Generated URLs:</h2>\n",
        "    <ul>\n",
        "        <li><a href=\"{index_url}\">Index Page</a></li>\n",
        "        <li><a href=\"{user_url}\">User Profile (John Doe)</a></li>\n",
        "    </ul>\n",
        "    '''\n",
        "    return html_content\n",
        "\n",
        "# Run the application\n",
        "if __name__ == '__main__':\n",
        "    app.run(debug=True)\n",
        "\n",
        "Explanation:\n",
        "\n",
        "The url_for() function takes the name of the endpoint as its first argument and any arguments needed to build the URL dynamically.\n",
        "In the example above:\n",
        "url_for('index') generates the URL for the index endpoint (/).\n",
        "url_for('user_profile', username='john_doe') generates the URL for the user_profile endpoint (/user/john_doe).\n"
      ],
      "metadata": {
        "id": "EpnV2J5IqOwi"
      },
      "execution_count": null,
      "outputs": []
    }
  ]
}